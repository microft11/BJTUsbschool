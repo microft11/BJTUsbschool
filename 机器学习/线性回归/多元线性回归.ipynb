{
 "cells": [
  {
   "cell_type": "markdown",
   "metadata": {},
   "source": [
    "# 多元线性回归/对数线性回归（二选一）"
   ]
  },
  {
   "cell_type": "markdown",
   "metadata": {},
   "source": [
    "## 一、多元线性回归\n",
    "这部分的内容是要求大家完成多元线性回归，我们会先带着大家使用sklearn做一元线性回归的十折交叉验证，多元线性回归大家可以仿照着完成"
   ]
  },
  {
   "cell_type": "markdown",
   "metadata": {},
   "source": [
    "### 1. 读取数据"
   ]
  },
  {
   "cell_type": "code",
   "execution_count": 24,
   "metadata": {},
   "outputs": [],
   "source": [
    "import pandas as pd\n",
    "import itertools"
   ]
  },
  {
   "cell_type": "code",
   "execution_count": 25,
   "metadata": {},
   "outputs": [],
   "source": [
    "# 读取数据\n",
    "data = pd.read_csv('C:/Users/苍山沐雪/Desktop/Jupyter/data//advertising/advertising.csv')\n"
   ]
  },
  {
   "cell_type": "code",
   "execution_count": 26,
   "metadata": {},
   "outputs": [
    {
     "data": {
      "text/html": [
       "<div>\n",
       "<style scoped>\n",
       "    .dataframe tbody tr th:only-of-type {\n",
       "        vertical-align: middle;\n",
       "    }\n",
       "\n",
       "    .dataframe tbody tr th {\n",
       "        vertical-align: top;\n",
       "    }\n",
       "\n",
       "    .dataframe thead th {\n",
       "        text-align: right;\n",
       "    }\n",
       "</style>\n",
       "<table border=\"1\" class=\"dataframe\">\n",
       "  <thead>\n",
       "    <tr style=\"text-align: right;\">\n",
       "      <th></th>\n",
       "      <th>TV</th>\n",
       "      <th>Radio</th>\n",
       "      <th>Newspaper</th>\n",
       "      <th>Sales</th>\n",
       "    </tr>\n",
       "  </thead>\n",
       "  <tbody>\n",
       "    <tr>\n",
       "      <th>0</th>\n",
       "      <td>230.1</td>\n",
       "      <td>37.8</td>\n",
       "      <td>69.2</td>\n",
       "      <td>22.1</td>\n",
       "    </tr>\n",
       "    <tr>\n",
       "      <th>1</th>\n",
       "      <td>44.5</td>\n",
       "      <td>39.3</td>\n",
       "      <td>45.1</td>\n",
       "      <td>10.4</td>\n",
       "    </tr>\n",
       "    <tr>\n",
       "      <th>2</th>\n",
       "      <td>17.2</td>\n",
       "      <td>45.9</td>\n",
       "      <td>69.3</td>\n",
       "      <td>12.0</td>\n",
       "    </tr>\n",
       "    <tr>\n",
       "      <th>3</th>\n",
       "      <td>151.5</td>\n",
       "      <td>41.3</td>\n",
       "      <td>58.5</td>\n",
       "      <td>16.5</td>\n",
       "    </tr>\n",
       "    <tr>\n",
       "      <th>4</th>\n",
       "      <td>180.8</td>\n",
       "      <td>10.8</td>\n",
       "      <td>58.4</td>\n",
       "      <td>17.9</td>\n",
       "    </tr>\n",
       "  </tbody>\n",
       "</table>\n",
       "</div>"
      ],
      "text/plain": [
       "      TV  Radio  Newspaper  Sales\n",
       "0  230.1   37.8       69.2   22.1\n",
       "1   44.5   39.3       45.1   10.4\n",
       "2   17.2   45.9       69.3   12.0\n",
       "3  151.5   41.3       58.5   16.5\n",
       "4  180.8   10.8       58.4   17.9"
      ]
     },
     "execution_count": 26,
     "metadata": {},
     "output_type": "execute_result"
    }
   ],
   "source": [
    "data.head()"
   ]
  },
  {
   "cell_type": "markdown",
   "metadata": {},
   "source": [
    "### 2. 引入模型"
   ]
  },
  {
   "cell_type": "code",
   "execution_count": 27,
   "metadata": {},
   "outputs": [],
   "source": [
    "from sklearn.linear_model import LinearRegression\n",
    "from sklearn.metrics import mean_absolute_error\n",
    "from sklearn.metrics import mean_squared_error\n",
    "from sklearn.model_selection import cross_val_predict\n",
    "from sklearn.preprocessing import PolynomialFeatures"
   ]
  },
  {
   "cell_type": "markdown",
   "metadata": {},
   "source": [
    "### 3. 使用sklearn完成一元线性回归的十折交叉验证验证"
   ]
  },
  {
   "cell_type": "markdown",
   "metadata": {},
   "source": [
    "#### 创建模型"
   ]
  },
  {
   "cell_type": "code",
   "execution_count": 28,
   "metadata": {},
   "outputs": [],
   "source": [
    "model = LinearRegression()"
   ]
  },
  {
   "cell_type": "markdown",
   "metadata": {},
   "source": [
    "#### 选取数据"
   ]
  },
  {
   "cell_type": "code",
   "execution_count": 29,
   "metadata": {},
   "outputs": [],
   "source": [
    "features = ['TV']\n",
    "x = data[features]\n",
    "y = data['Sales']"
   ]
  },
  {
   "cell_type": "markdown",
   "metadata": {},
   "source": [
    "#### 做十折交叉验证的预测"
   ]
  },
  {
   "cell_type": "code",
   "execution_count": 30,
   "metadata": {},
   "outputs": [],
   "source": [
    "prediction = cross_val_predict(model, x, y, cv = 10)"
   ]
  },
  {
   "cell_type": "markdown",
   "metadata": {},
   "source": [
    "这十折交叉验证是按顺序做的，会先将前10%的数据作为测试集，然后会往后顺延到10%到20%，最后将这十份的预测值按顺序拼接后返回"
   ]
  },
  {
   "cell_type": "code",
   "execution_count": 31,
   "metadata": {},
   "outputs": [
    {
     "data": {
      "text/plain": [
       "(200,)"
      ]
     },
     "execution_count": 31,
     "metadata": {},
     "output_type": "execute_result"
    }
   ],
   "source": [
    "prediction.shape"
   ]
  },
  {
   "cell_type": "markdown",
   "metadata": {},
   "source": [
    "### 4. 计算评价指标"
   ]
  },
  {
   "cell_type": "markdown",
   "metadata": {},
   "source": [
    "#### MAE"
   ]
  },
  {
   "cell_type": "code",
   "execution_count": 32,
   "metadata": {},
   "outputs": [
    {
     "data": {
      "text/plain": [
       "1.8484560436845014"
      ]
     },
     "execution_count": 32,
     "metadata": {},
     "output_type": "execute_result"
    }
   ],
   "source": [
    "mean_absolute_error(prediction, data['Sales'])"
   ]
  },
  {
   "cell_type": "markdown",
   "metadata": {},
   "source": [
    "#### RMSE"
   ]
  },
  {
   "cell_type": "code",
   "execution_count": 33,
   "metadata": {},
   "outputs": [
    {
     "data": {
      "text/plain": [
       "2.311891648438941"
      ]
     },
     "execution_count": 33,
     "metadata": {},
     "output_type": "execute_result"
    }
   ],
   "source": [
    "mean_squared_error(prediction, data['Sales']) ** 0.5"
   ]
  },
  {
   "cell_type": "markdown",
   "metadata": {},
   "source": [
    "### 5. 请你选择多种特征进行组合，完成多元线性回归，并对比不同的特征组合，它们训练出的模型在十折交叉验证上MAE与RMSE的差别，至少完成3组"
   ]
  },
  {
   "cell_type": "markdown",
   "metadata": {},
   "source": [
    "###### 扩展：多项式回归（一元线性回归的扩展），尝试对部分特征进行变换，如将其二次幂，三次幂作为特征输入模型，观察模型在预测能力上的变化\n",
    "###### 提示：多元线性回归，只要在上方的features这个list中，加入其他特征的名字就可以"
   ]
  },
  {
   "cell_type": "code",
   "execution_count": 34,
   "metadata": {},
   "outputs": [
    {
     "name": "stdout",
     "output_type": "stream",
     "text": [
      "Features: ('TV',), MAE: 1.8484560436845014, RMSE: 2.311891648438941\n",
      "Features: ('Radio',), MAE: 4.298916799089579, RMSE: 5.018042892623836\n",
      "Features: ('Newspaper',), MAE: 4.409197242713417, RMSE: 5.251605412934672\n",
      "Features: ('TV', 'Radio'), MAE: 1.2621936422519533, RMSE: 1.6818990518213202\n",
      "Features: ('TV', 'Newspaper'), MAE: 1.776707605359968, RMSE: 2.2492610419402657\n",
      "Features: ('Radio', 'Newspaper'), MAE: 4.3163332911165995, RMSE: 5.042150499491994\n",
      "Features: ('TV', 'Radio', 'Newspaper'), MAE: 1.2644541807760776, RMSE: 1.685774006914065\n",
      "Features: ('TV',), Degree: 1, MAE: 1.848456043684502, RMSE: 2.3118916484389405\n",
      "Features: ('TV',), Degree: 2, MAE: 1.8002792724446706, RMSE: 2.2571888068471626\n",
      "Features: ('TV',), Degree: 3, MAE: 1.8125967310178075, RMSE: 2.273762346296598\n",
      "Features: ('Radio',), Degree: 1, MAE: 4.298916799089579, RMSE: 5.018042892623835\n",
      "Features: ('Radio',), Degree: 2, MAE: 4.32327527255341, RMSE: 5.041740516911242\n",
      "Features: ('Radio',), Degree: 3, MAE: 4.32449000213333, RMSE: 5.032055988660891\n",
      "Features: ('Newspaper',), Degree: 1, MAE: 4.409197242713417, RMSE: 5.251605412934672\n",
      "Features: ('Newspaper',), Degree: 2, MAE: 4.482078496120864, RMSE: 5.360347985802099\n",
      "Features: ('Newspaper',), Degree: 3, MAE: 4.397728350226637, RMSE: 5.268097669983216\n",
      "Features: ('TV', 'Radio'), Degree: 1, MAE: 1.2621936422519526, RMSE: 1.6818990518213195\n",
      "Features: ('TV', 'Radio'), Degree: 2, MAE: 1.029518085337614, RMSE: 1.3890476306367983\n",
      "Features: ('TV', 'Radio'), Degree: 3, MAE: 0.9900309987124694, RMSE: 1.371466991261877\n",
      "Features: ('TV', 'Newspaper'), Degree: 1, MAE: 1.776707605359968, RMSE: 2.2492610419402657\n",
      "Features: ('TV', 'Newspaper'), Degree: 2, MAE: 1.7232782324732283, RMSE: 2.2013519558580126\n",
      "Features: ('TV', 'Newspaper'), Degree: 3, MAE: 1.7257046340813473, RMSE: 2.2581243653800236\n",
      "Features: ('Radio', 'Newspaper'), Degree: 1, MAE: 4.3163332911165995, RMSE: 5.042150499491994\n",
      "Features: ('Radio', 'Newspaper'), Degree: 2, MAE: 4.392143331996591, RMSE: 5.196319146478735\n",
      "Features: ('Radio', 'Newspaper'), Degree: 3, MAE: 4.418841737544908, RMSE: 5.2360839683050235\n",
      "Features: ('TV', 'Radio', 'Newspaper'), Degree: 1, MAE: 1.2644541807760779, RMSE: 1.6857740069140652\n",
      "Features: ('TV', 'Radio', 'Newspaper'), Degree: 2, MAE: 1.0556420235595392, RMSE: 1.4120362321586724\n",
      "Features: ('TV', 'Radio', 'Newspaper'), Degree: 3, MAE: 1.0727982871704207, RMSE: 1.478457853457207\n"
     ]
    }
   ],
   "source": [
    "# 创建一个函数来进行特征组合的多元线性回归\n",
    "def perform_multivariate_regression(features, data):\n",
    "    model = LinearRegression()\n",
    "    x = data[features]\n",
    "    y = data['Sales']\n",
    "    prediction = cross_val_predict(model, x, y, cv=10)\n",
    "    mae = mean_absolute_error(prediction, data['Sales'])\n",
    "    rmse = mean_squared_error(prediction, data['Sales']) ** 0.5\n",
    "    return mae, rmse\n",
    "\n",
    "# 定义不同特征组合\n",
    "all_features = ['TV', 'Radio', 'Newspaper']\n",
    "feature_combinations = []\n",
    "\n",
    "for r in range(1, len(all_features) + 1):\n",
    "    feature_combinations.extend(list(itertools.combinations(all_features, r)))\n",
    "\n",
    "# 多元线性回归并比较不同特征组合的性能\n",
    "results = []\n",
    "\n",
    "for combo in feature_combinations:\n",
    "    mae, rmse = perform_multivariate_regression(list(combo), data)\n",
    "    results.append((combo, mae, rmse))\n",
    "\n",
    "# 输出不同特征组合的性能\n",
    "for combo, mae, rmse in results:\n",
    "    print(f\"Features: {combo}, MAE: {mae}, RMSE: {rmse}\")\n",
    "\n",
    "# 扩展：多项式回归\n",
    "poly_results = []\n",
    "\n",
    "for combo in feature_combinations:\n",
    "    x = data[list(combo)]\n",
    "    y = data['Sales']\n",
    "\n",
    "    for degree in range(1, 4):  # 尝试一次幂，二次幂和三次幂\n",
    "        poly = PolynomialFeatures(degree=degree)\n",
    "        x_poly = poly.fit_transform(x)\n",
    "\n",
    "        model = LinearRegression()\n",
    "        prediction = cross_val_predict(model, x_poly, y, cv=10)\n",
    "        mae = mean_absolute_error(prediction, data['Sales'])\n",
    "        rmse = mean_squared_error(prediction, data['Sales']) ** 0.5\n",
    "\n",
    "        poly_results.append((combo, degree, mae, rmse))\n",
    "\n",
    "# 输出多项式回归的性能\n",
    "for combo, degree, mae, rmse in poly_results:\n",
    "    print(f\"Features: {combo}, Degree: {degree}, MAE: {mae}, RMSE: {rmse}\")\n",
    "\n",
    "\n",
    "\n",
    "\n"
   ]
  },
  {
   "cell_type": "markdown",
   "metadata": {},
   "source": [
    "###### 双击此处填写\n",
    "1. 模型1使用的特征：'TV'\n",
    "2. 模型2使用的特征：'Radio'\n",
    "3. 模型3使用的特征：'Newspaper'\n",
    "\n",
    "模型|MAE|RMSE\n",
    "-|-|-\n",
    "模型1 | 1.848 | 2.311\n",
    "模型2 | 4.298 | 5.018\n",
    "模型3 | 4.409 | 5.251"
   ]
  },
  {
   "cell_type": "code",
   "execution_count": null,
   "metadata": {},
   "outputs": [],
   "source": []
  }
 ],
 "metadata": {
  "kernelspec": {
   "display_name": "Python 3 (ipykernel)",
   "language": "python",
   "name": "python3"
  },
  "language_info": {
   "codemirror_mode": {
    "name": "ipython",
    "version": 3
   },
   "file_extension": ".py",
   "mimetype": "text/x-python",
   "name": "python",
   "nbconvert_exporter": "python",
   "pygments_lexer": "ipython3",
   "version": "3.10.5"
  },
  "toc": {
   "base_numbering": 1,
   "nav_menu": {},
   "number_sections": true,
   "sideBar": true,
   "skip_h1_title": false,
   "title_cell": "Table of Contents",
   "title_sidebar": "Contents",
   "toc_cell": false,
   "toc_position": {},
   "toc_section_display": true,
   "toc_window_display": false
  },
  "vscode": {
   "interpreter": {
    "hash": "49cb93f377a7abe7414b7b0f21fb3017538004a126cf690fb524202736b7fb92"
   }
  }
 },
 "nbformat": 4,
 "nbformat_minor": 2
}
