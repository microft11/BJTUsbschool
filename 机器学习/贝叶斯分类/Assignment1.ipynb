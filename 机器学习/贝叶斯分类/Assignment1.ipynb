{
 "cells": [
  {
   "cell_type": "markdown",
   "metadata": {},
   "source": [
    "# 第一题：使用sklearn的GaussianNB、BernoulliNB、MultinomialNB完成spambase垃圾邮件分类任务\n",
    "\n",
    "实验内容：\n",
    "1. 使用GaussianNB、BernoulliNB、MultinomialNB完成spambase邮件分类\n",
    "2. 计算各自十折交叉验证的精度、查准率、查全率、F1值\n",
    "3. 根据精度、查准率、查全率、F1值的实际意义以及四个值的对比阐述三个算法在spambase中的表现对比"
   ]
  },
  {
   "cell_type": "markdown",
   "metadata": {},
   "source": [
    "# 1. 读取数据集"
   ]
  },
  {
   "cell_type": "code",
   "execution_count": 1,
   "metadata": {},
   "outputs": [],
   "source": [
    "import numpy as np\n",
    "spambase = np.loadtxt('data/spambase/spambase.data', delimiter = \",\")\n",
    "spamx = spambase[:, :57]\n",
    "spamy = spambase[:, 57]"
   ]
  },
  {
   "cell_type": "markdown",
   "metadata": {},
   "source": [
    "# 2. 导入模型"
   ]
  },
  {
   "cell_type": "code",
   "execution_count": 2,
   "metadata": {},
   "outputs": [],
   "source": [
    "from sklearn.naive_bayes import GaussianNB\n",
    "from sklearn.naive_bayes import MultinomialNB\n",
    "from sklearn.naive_bayes import BernoulliNB\n",
    "from sklearn.model_selection import cross_val_predict\n",
    "from sklearn.metrics import accuracy_score, precision_score, recall_score, f1_score"
   ]
  },
  {
   "cell_type": "markdown",
   "metadata": {},
   "source": [
    "# 3. 计算十折交叉验证下，GaussianNB、BernoulliNB、MultinomialNB的精度、查准率、查全率、F1值"
   ]
  },
  {
   "cell_type": "code",
   "execution_count": 3,
   "metadata": {},
   "outputs": [
    {
     "name": "stdout",
     "output_type": "stream",
     "text": [
      "Results for GaussianNB:\n",
      "Accuracy: 0.8218\n",
      "Precision: 0.7004\n",
      "Recall: 0.9570\n",
      "F1 Score: 0.8089\n",
      "\n",
      "\n",
      "Results for MultinomialNB:\n",
      "Accuracy: 0.7864\n",
      "Precision: 0.7324\n",
      "Recall: 0.7215\n",
      "F1 Score: 0.7269\n",
      "\n",
      "\n",
      "Results for BernoulliNB:\n",
      "Accuracy: 0.8839\n",
      "Precision: 0.8813\n",
      "Recall: 0.8152\n",
      "F1 Score: 0.8470\n",
      "\n",
      "\n"
     ]
    }
   ],
   "source": [
    "# YOUR CODE HERE\n",
    "# Initialize the Naive Bayes classifiers\n",
    "gnb = GaussianNB()\n",
    "mnb = MultinomialNB()\n",
    "bnb = BernoulliNB()\n",
    "\n",
    "# List of classifiers\n",
    "classifiers = [gnb, mnb, bnb]\n",
    "classifier_names = ['GaussianNB', 'MultinomialNB', 'BernoulliNB']\n",
    "\n",
    "# Perform 10-fold cross-validation and calculate metrics for each classifier\n",
    "for clf, clf_name in zip(classifiers, classifier_names):\n",
    "    # Predict spam labels using cross_val_predict\n",
    "    predicted_spam = cross_val_predict(clf, spamx, spamy, cv=10)\n",
    "\n",
    "    # Calculate evaluation metrics\n",
    "    accuracy = accuracy_score(spamy, predicted_spam)\n",
    "    precision = precision_score(spamy, predicted_spam)\n",
    "    recall = recall_score(spamy, predicted_spam)\n",
    "    f1 = f1_score(spamy, predicted_spam)\n",
    "\n",
    "    # Print the results\n",
    "    print(f\"Results for {clf_name}:\")\n",
    "    print(f\"Accuracy: {accuracy:.4f}\")\n",
    "    print(f\"Precision: {precision:.4f}\")\n",
    "    print(f\"Recall: {recall:.4f}\")\n",
    "    print(f\"F1 Score: {f1:.4f}\")\n",
    "    print(\"\\n\")"
   ]
  },
  {
   "cell_type": "markdown",
   "metadata": {},
   "source": [
    "###### 双击此处填写\n",
    "算法|精度|查准率|查全率|F1值\n",
    "-|-|-|-|-\n",
    "GaussianNB|0.82|0.70|0.96|0.81\n",
    "MultinomialNB|0.79|0.73|0.72|0.73\n",
    "BernoulliNB|0.89|0.88|0.82|0.85"
   ]
  },
  {
   "cell_type": "markdown",
   "metadata": {},
   "source": [
    "###### 双击此处填写分析\n",
    "\n",
    "分析如下：这三个中伯努利NB的表现最好，查准率和查全率都可以，说明垃圾邮件的分类更适用于伯努利分布。"
   ]
  }
 ],
 "metadata": {
  "kernelspec": {
   "display_name": "Python 3 (ipykernel)",
   "language": "python",
   "name": "python3"
  },
  "language_info": {
   "codemirror_mode": {
    "name": "ipython",
    "version": 3
   },
   "file_extension": ".py",
   "mimetype": "text/x-python",
   "name": "python",
   "nbconvert_exporter": "python",
   "pygments_lexer": "ipython3",
   "version": "3.10.5"
  },
  "toc": {
   "base_numbering": 1,
   "nav_menu": {},
   "number_sections": true,
   "sideBar": true,
   "skip_h1_title": false,
   "title_cell": "Table of Contents",
   "title_sidebar": "Contents",
   "toc_cell": false,
   "toc_position": {},
   "toc_section_display": true,
   "toc_window_display": false
  }
 },
 "nbformat": 4,
 "nbformat_minor": 2
}
